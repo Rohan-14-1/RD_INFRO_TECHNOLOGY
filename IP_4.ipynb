{
  "nbformat": 4,
  "nbformat_minor": 0,
  "metadata": {
    "colab": {
      "provenance": [],
      "authorship_tag": "ABX9TyN8Aju9lu4xQI7Dx5VfDt5S",
      "include_colab_link": true
    },
    "kernelspec": {
      "name": "python3",
      "display_name": "Python 3"
    },
    "language_info": {
      "name": "python"
    }
  },
  "cells": [
    {
      "cell_type": "markdown",
      "metadata": {
        "id": "view-in-github",
        "colab_type": "text"
      },
      "source": [
        "<a href=\"https://colab.research.google.com/github/Rohan-14-1/RD_INFRO_TECHNOLOGY/blob/main/IP_4.ipynb\" target=\"_parent\"><img src=\"https://colab.research.google.com/assets/colab-badge.svg\" alt=\"Open In Colab\"/></a>"
      ]
    },
    {
      "cell_type": "code",
      "source": [],
      "metadata": {
        "id": "45nST1aapPAB"
      },
      "execution_count": null,
      "outputs": []
    },
    {
      "cell_type": "code",
      "execution_count": null,
      "metadata": {
        "colab": {
          "base_uri": "https://localhost:8080/"
        },
        "id": "atwO0R3lopYz",
        "outputId": "9df70aa7-e077-400a-bb00-a4a92241c289"
      },
      "outputs": [
        {
          "output_type": "stream",
          "name": "stdout",
          "text": [
            "replace ml-latest-small/links.csv? [y]es, [n]o, [A]ll, [N]one, [r]ename: n\n",
            "replace ml-latest-small/tags.csv? [y]es, [n]o, [A]ll, [N]one, [r]ename: N\n",
            "Movies similar to Toy Story (1995):\n",
            "1706                                       Antz (1998)\n",
            "2355                                Toy Story 2 (1999)\n",
            "2809    Adventures of Rocky and Bullwinkle, The (2000)\n",
            "3000                  Emperor's New Groove, The (2000)\n",
            "3568                             Monsters, Inc. (2001)\n",
            "Name: title, dtype: object\n"
          ]
        }
      ],
      "source": [
        "import pandas as pd\n",
        "from sklearn.feature_extraction.text import TfidfVectorizer\n",
        "from sklearn.metrics.pairwise import cosine_similarity\n",
        "\n",
        "def load_data():\n",
        "    # Load dataset (Replace with actual path if running locally)\n",
        "    url = \"https://files.grouplens.org/datasets/movielens/ml-latest-small.zip\"\n",
        "    dataset_path = \"ml-latest-small/movies.csv\"  # Line where dataset should be placed\n",
        "\n",
        "    # Download and extract dataset\n",
        "    !wget -q $url -O movielens.zip\n",
        "    !unzip -q movielens.zip\n",
        "\n",
        "    # Load movie data\n",
        "    movies = pd.read_csv(dataset_path)\n",
        "    return movies\n",
        "\n",
        "def recommend_movies(movie_title, movies, top_n=5):\n",
        "    # TF-IDF Vectorization\n",
        "    tfidf = TfidfVectorizer(stop_words='english')\n",
        "    tfidf_matrix = tfidf.fit_transform(movies['genres'].fillna(''))\n",
        "\n",
        "    # Compute similarity scores\n",
        "    cosine_sim = cosine_similarity(tfidf_matrix, tfidf_matrix)\n",
        "\n",
        "    # Get index of given movie\n",
        "    indices = pd.Series(movies.index, index=movies['title']).drop_duplicates()\n",
        "    if movie_title not in indices:\n",
        "        return \"Movie not found in dataset.\"\n",
        "\n",
        "    idx = indices[movie_title]\n",
        "\n",
        "    # Get similarity scores\n",
        "    sim_scores = list(enumerate(cosine_sim[idx]))\n",
        "    sim_scores = sorted(sim_scores, key=lambda x: x[1], reverse=True)\n",
        "    sim_scores = sim_scores[1:top_n+1]\n",
        "\n",
        "    # Get movie indices\n",
        "    movie_indices = [i[0] for i in sim_scores]\n",
        "    return movies['title'].iloc[movie_indices]\n",
        "\n",
        "# Main execution\n",
        "movies = load_data()\n",
        "user_movie = \"Toy Story (1995)\"  # Example movie title\n",
        "recommended = recommend_movies(user_movie, movies)\n",
        "print(f\"Movies similar to {user_movie}:\")\n",
        "print(recommended)\n"
      ]
    }
  ]
}