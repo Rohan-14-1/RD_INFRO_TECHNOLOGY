{
  "nbformat": 4,
  "nbformat_minor": 0,
  "metadata": {
    "colab": {
      "provenance": [],
      "authorship_tag": "ABX9TyNuw2t3L4GRKLDkOnkRc914",
      "include_colab_link": true
    },
    "kernelspec": {
      "name": "python3",
      "display_name": "Python 3"
    },
    "language_info": {
      "name": "python"
    }
  },
  "cells": [
    {
      "cell_type": "markdown",
      "metadata": {
        "id": "view-in-github",
        "colab_type": "text"
      },
      "source": [
        "<a href=\"https://colab.research.google.com/github/Rohan-14-1/RD_INFRO_TECHNOLOGY/blob/main/IP_Task_1.ipynb\" target=\"_parent\"><img src=\"https://colab.research.google.com/assets/colab-badge.svg\" alt=\"Open In Colab\"/></a>"
      ]
    },
    {
      "cell_type": "code",
      "execution_count": null,
      "metadata": {
        "colab": {
          "base_uri": "https://localhost:8080/"
        },
        "id": "ln_dZ7XcLTxP",
        "outputId": "c6b38003-697e-47dc-b70d-5adfe7f408f4"
      },
      "outputs": [
        {
          "output_type": "stream",
          "name": "stdout",
          "text": [
            "Welcome to the Enhanced ChatBot! Type 'bye' to exit.\n",
            "You: hellow\n",
            "ChatBot: Hey!\n",
            "You: what's your name\n",
            "ChatBot: You can call me ChatBot!\n",
            "You: tell me a jock\n",
            "ChatBot: I'm still learning. Could you try asking something different?\n",
            "You: what's the time\n",
            "ChatBot: The current time is 05:19:55.\n",
            "You: bye\n",
            "ChatBot: Bye! See you soon!\n"
          ]
        }
      ],
      "source": [
        "import random\n",
        "import requests\n",
        "from datetime import datetime, date\n",
        "\n",
        "# Function to get a random joke\n",
        "def get_joke():\n",
        "    url = \"https://official-joke-api.appspot.com/random_joke\"\n",
        "    response = requests.get(url)\n",
        "    if response.status_code == 200:\n",
        "        joke_data = response.json()\n",
        "        return f\"{joke_data['setup']} {joke_data['punchline']}\"\n",
        "    else:\n",
        "        return \"Why don't scientists trust atoms? Because they make up everything!\"\n",
        "\n",
        "# Main chatbot function\n",
        "def simple_chatbot(user_input, context):\n",
        "    user_input = user_input.lower()\n",
        "\n",
        "    # Context handling (e.g., remembering the user's name)\n",
        "    if \"my name is\" in user_input:\n",
        "        context[\"user_name\"] = user_input.split(\"my name is\")[1].strip()\n",
        "        return f\"Nice to meet you, {context['user_name']}! How can I help you today?\"\n",
        "\n",
        "    if \"what is my name\" in user_input:\n",
        "        if \"user_name\" in context:\n",
        "            return f\"Your name is {context['user_name']}.\"\n",
        "        else:\n",
        "            return \"I don't know your name yet. What is your name?\"\n",
        "\n",
        "    # Rule-based responses\n",
        "    if \"hello\" in user_input or \"hi\" in user_input:\n",
        "        greetings = [\"Hello!\", \"Hi there!\", \"Hey!\", \"Greetings!\"]\n",
        "        return random.choice(greetings)\n",
        "\n",
        "    elif \"how are you\" in user_input:\n",
        "        return random.choice([\"I'm doing great, thanks!\", \"I'm just a bot, but I'm fine!\", \"All systems are functioning!\"])\n",
        "\n",
        "    elif \"your name\" in user_input:\n",
        "        return random.choice([\"I'm a simple rule-based chatbot.\", \"You can call me ChatBot!\", \"I go by the name ChatBot.\"])\n",
        "\n",
        "    elif \"time\" in user_input:\n",
        "        now = datetime.now()\n",
        "        current_time = now.strftime(\"%H:%M:%S\")\n",
        "        return f\"The current time is {current_time}.\"\n",
        "\n",
        "    elif \"date\" in user_input:\n",
        "        today = date.today()\n",
        "        return f\"Today's date is {today}.\"\n",
        "\n",
        "    elif \"joke\" in user_input or \"funny\" in user_input:\n",
        "        return get_joke()\n",
        "\n",
        "    elif \"bye\" in user_input or \"goodbye\" in user_input:\n",
        "        return random.choice([\"Goodbye! Have a great day!\", \"Bye! See you soon!\", \"Farewell!\"])\n",
        "\n",
        "    else:\n",
        "        return random.choice([\n",
        "            \"I'm not sure how to respond to that. Can you ask me something else?\",\n",
        "            \"Hmm, I didn't understand that. Could you rephrase?\",\n",
        "            \"I'm still learning. Could you try asking something different?\"\n",
        "        ])\n",
        "\n",
        "# Main loop to interact with the chatbot\n",
        "if __name__ == \"__main__\":\n",
        "    print(\"Welcome to the Enhanced ChatBot! Type 'bye' to exit.\")\n",
        "    context = {}  # Dictionary to store context (e.g., user's name)\n",
        "\n",
        "    while True:\n",
        "        user_input = input(\"You: \")\n",
        "        if user_input.lower() in [\"bye\", \"goodbye\"]:\n",
        "            print(f\"ChatBot: {simple_chatbot(user_input, context)}\")\n",
        "            break\n",
        "        response = simple_chatbot(user_input, context)\n",
        "        print(f\"ChatBot: {response}\")"
      ]
    }
  ]
}